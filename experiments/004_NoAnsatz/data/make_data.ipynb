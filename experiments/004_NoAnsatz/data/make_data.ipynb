{
 "cells": [
  {
   "cell_type": "markdown",
   "metadata": {
    "id": "WKOGauT-PwG2"
   },
   "source": [
    "# Import"
   ]
  },
  {
   "cell_type": "code",
   "execution_count": 1,
   "metadata": {
    "id": "vSSrlPvfJRbu"
   },
   "outputs": [
    {
     "name": "stderr",
     "output_type": "stream",
     "text": [
      "/ext3/miniforge3/lib/python3.12/site-packages/tqdm/auto.py:21: TqdmWarning: IProgress not found. Please update jupyter and ipywidgets. See https://ipywidgets.readthedocs.io/en/stable/user_install.html\n",
      "  from .autonotebook import tqdm as notebook_tqdm\n"
     ]
    }
   ],
   "source": [
    "import timm\n",
    "import torch\n",
    "import torchvision\n",
    "\n",
    "device = torch.device(\"cuda\" if torch.cuda.is_available() else \"cpu\")\n",
    "\n",
    "import torch.nn as nn\n",
    "import torch.optim as optim\n",
    "import torchvision.transforms as transforms\n",
    "from torch.utils.data import TensorDataset, DataLoader, Subset, random_split\n",
    "\n",
    "import matplotlib.pyplot as plt\n",
    "from tqdm import tqdm"
   ]
  },
  {
   "cell_type": "markdown",
   "metadata": {
    "id": "17e6NfjzI4wR"
   },
   "source": [
    "## Deform Images"
   ]
  },
  {
   "cell_type": "code",
   "execution_count": 2,
   "metadata": {
    "id": "bWrpo37TI5m8"
   },
   "outputs": [],
   "source": [
    "def sin_distortion(x_length: int,\n",
    "                   y_length: int,\n",
    "                   A_nm: torch.Tensor) -> (torch.Tensor, torch.Tensor):\n",
    "    \"\"\"\n",
    "    Sin distortion for creating deformation maps.\n",
    "\n",
    "    Args:\n",
    "    - x_length (int): Length of x-axis of image.\n",
    "    - y_length (int): Length of y-axis of image.\n",
    "    - A_nm (torch.Tensor): Square matrix of coefficients. Sets size of cut off.\n",
    "\n",
    "    Returns:\n",
    "    (torch.Tensor, torch.Tensor): Deformation maps for x and y coordinates.\n",
    "    \"\"\"\n",
    "    if A_nm.shape[0] != A_nm.shape[1]:\n",
    "        raise ValueError('A_nm must be square matrix.')\n",
    "\n",
    "    A_nm = A_nm.float()\n",
    "\n",
    "    # Create Coordinates\n",
    "    x = torch.linspace(-1, 1, x_length, dtype=torch.float32)\n",
    "    y = torch.linspace(-1, 1, y_length, dtype=torch.float32)\n",
    "    X, Y = torch.meshgrid(x, y, indexing='ij')\n",
    "\n",
    "    # Create Diffeo\n",
    "    x_pert = torch.linspace(0, 1, x_length, dtype=torch.float32)\n",
    "    y_pert = torch.linspace(0, 1, y_length, dtype=torch.float32)\n",
    "\n",
    "    n = torch.arange(1, A_nm.shape[0] + 1, dtype=torch.float32)\n",
    "    x_basis = torch.sin(torch.pi * torch.outer(n, x_pert)).T\n",
    "    y_basis = torch.sin(torch.pi * torch.outer(n, y_pert))\n",
    "\n",
    "    perturbation = torch.matmul(x_basis, torch.matmul(A_nm, y_basis))\n",
    "\n",
    "    x_map = X + perturbation\n",
    "    y_map = Y + perturbation\n",
    "\n",
    "    return x_map, y_map\n",
    "\n",
    "def apply_transformation(image_tensor,\n",
    "                         A_nm: torch.Tensor,\n",
    "                         interpolation_type='bilinear'):\n",
    "    \"\"\"\n",
    "    Wrapper of `sin_distortion`. Gets torch.tensor and returns the distorted\n",
    "    torch.tensor according to A_nm.\n",
    "\n",
    "    Args:\n",
    "        image_tensor (torch.Tensor): Inputted image.\n",
    "        A_nm (torch.Tensor): Characterizes diffeo according to `sin_distortion`.\n",
    "        interpolation_type (str): Interpolation method ('bilinear' or 'nearest').\n",
    "\n",
    "    Returns:\n",
    "        image_tensor_deformed (torch.Tensor): Diffeo applied to `image_tensor`.\n",
    "    \"\"\"\n",
    "    # Create deformation map\n",
    "    x_length, y_length = image_tensor.shape[1:3]\n",
    "    x_map, y_map  = sin_distortion(x_length, y_length, A_nm)\n",
    "\n",
    "    return apply_flowgrid(image_tensor, x_map, y_map, interpolation_type=interpolation_type)\n",
    "\n",
    "\n",
    "def apply_flowgrid(image_tensor, x_map, y_map, interpolation_type='bilinear'):\n",
    "    # Stack and unsqueeze to form grid\n",
    "    grid = torch.stack((y_map, x_map), dim=-1).unsqueeze(0).to(image_tensor.device)\n",
    "\n",
    "    # Apply grid sample\n",
    "    image_tensor_deformed = torch.nn.functional.grid_sample(image_tensor.unsqueeze(0),\n",
    "                                                            grid,\n",
    "                                                            mode=interpolation_type,\n",
    "                                                            align_corners=True)\n",
    "\n",
    "    return image_tensor_deformed.squeeze(0)"
   ]
  },
  {
   "cell_type": "code",
   "execution_count": 3,
   "metadata": {
    "colab": {
     "base_uri": "https://localhost:8080/",
     "height": 525
    },
    "id": "WBzlbca7I_bl",
    "outputId": "89cb5cbf-dd14-44b7-eb7b-4f244603a7e6"
   },
   "outputs": [],
   "source": [
    "def diffeo_dataset(tensor):\n",
    "    A_nm = torch.tensor([[0.0, 0.14],\n",
    "                         [-0.02, 0.01]])\n",
    "    return apply_transformation(tensor, A_nm)"
   ]
  },
  {
   "cell_type": "markdown",
   "metadata": {
    "id": "QzPEH1H1IzEj"
   },
   "source": [
    "# Get ImageNet"
   ]
  },
  {
   "cell_type": "code",
   "execution_count": 17,
   "metadata": {
    "colab": {
     "base_uri": "https://localhost:8080/"
    },
    "id": "GDJTqfNJIwDm",
    "outputId": "e6f7789e-8f63-46dd-a533-e7e226e5f897"
   },
   "outputs": [],
   "source": [
    "import torch as t\n",
    "\n",
    "root = '/imagenet/'\n",
    "total_images = 1000\n",
    "pct_train = 0.8\n",
    "\n",
    "\n",
    "num_train = int(total_images * pct_train)\n",
    "num_val = total_images - num_train\n",
    "\n",
    "# Preprocess the image w/o diffeo\n",
    "preprocess = transforms.Compose([\n",
    "    transforms.Grayscale(num_output_channels=3),  # Convert to grayscale\n",
    "    transforms.Resize(224),\n",
    "    transforms.CenterCrop(224),\n",
    "    transforms.ToTensor(),\n",
    "    transforms.Normalize(mean=[0.485], std=[0.229]),\n",
    "])\n",
    "\n",
    "# Preprocess the image w/ diffeo\n",
    "preprocess_diffeo = transforms.Compose([\n",
    "    transforms.Grayscale(num_output_channels=3),  # Convert to grayscale\n",
    "    transforms.Resize(224),\n",
    "    transforms.CenterCrop(224),\n",
    "    transforms.ToTensor(),\n",
    "    transforms.Normalize(mean=[0.485], std=[0.229]),\n",
    "    diffeo_dataset,\n",
    "])\n",
    "\n",
    "\n",
    "split = 'val'\n",
    "\n",
    "dataset_images_og = torchvision.datasets.ImageNet(root=root, \n",
    "                                                        split=split, \n",
    "                                                        transform=preprocess, )\n",
    "dataset_images_diffeo = torchvision.datasets.ImageNet(root=root, \n",
    "                                                            split=split, \n",
    "                                                            transform=preprocess_diffeo,)"
   ]
  },
  {
   "cell_type": "markdown",
   "metadata": {
    "id": "scAfZZW3Io3X"
   },
   "source": [
    "# Image Classification Model"
   ]
  },
  {
   "cell_type": "code",
   "execution_count": 18,
   "metadata": {
    "colab": {
     "base_uri": "https://localhost:8080/"
    },
    "id": "LbU_-xFyIIdp",
    "outputId": "f7674bc9-ef3d-44ad-a0ca-49602bcd1c8d"
   },
   "outputs": [],
   "source": [
    "# Load a pre-trained ViT model\n",
    "model = torchvision.models.resnet18(pretrained=True)\n",
    "\n",
    "# Move the model to GPU if available\n",
    "model = model.to(device)"
   ]
  },
  {
   "cell_type": "code",
   "execution_count": 20,
   "metadata": {},
   "outputs": [
    {
     "name": "stderr",
     "output_type": "stream",
     "text": [
      "100%|██████████| 1000/1000 [00:05<00:00, 173.09it/s]\n",
      "100%|██████████| 1000/1000 [00:06<00:00, 143.22it/s]\n"
     ]
    }
   ],
   "source": [
    "dataset_size = 1000\n",
    "tensor_images_og     = torch.cat([dataset_images_og[i][0].unsqueeze(0).to(device) for i in tqdm(range(dataset_size))])\n",
    "tensor_images_diffeo = torch.cat([dataset_images_diffeo[i][0].unsqueeze(0).to(device) for i in tqdm(range(dataset_size))])"
   ]
  },
  {
   "cell_type": "code",
   "execution_count": 21,
   "metadata": {
    "id": "C2Ekk5d-I2KE"
   },
   "outputs": [],
   "source": [
    "def get_activation(model, input, layer_index: list):\n",
    "\n",
    "  activation = {}\n",
    "  def getActivation(name):\n",
    "      # the hook signature\n",
    "      def hook(model, input, output):\n",
    "          activation[name] = output.detach()\n",
    "      return hook\n",
    "\n",
    "  handles = []\n",
    "  def retrieve_layer_activation(model, input, layer_index):\n",
    "    if len(input) == 3: input = input[None, :, :, :]\n",
    "\n",
    "    layers = list(model.children())\n",
    "    layers_flat = flatten(layers)\n",
    "\n",
    "    for index in layer_index:\n",
    "      handles.append(layers_flat[index - 1].register_forward_hook(getActivation(str(index))))\n",
    "\n",
    "    with t.no_grad(): model(input)\n",
    "    for handle in handles: handle.remove()\n",
    "\n",
    "    return\n",
    "\n",
    "  def flatten(array):\n",
    "      result = []\n",
    "      for element in array:\n",
    "          if hasattr(element, \"__iter__\"):\n",
    "              result.extend(flatten(element))\n",
    "          else:\n",
    "              result.append(element)\n",
    "      return result\n",
    "\n",
    "  retrieve_layer_activation(model, input, layer_index)\n",
    "  return activation"
   ]
  },
  {
   "cell_type": "code",
   "execution_count": null,
   "metadata": {
    "colab": {
     "base_uri": "https://localhost:8080/"
    },
    "id": "6w49aA67XxwP",
    "outputId": "511e3f52-2cb7-422d-ca04-4523c92ab217"
   },
   "outputs": [],
   "source": [
    "layer_id = 13\n",
    "\n",
    "activation_og = get_activation(model, tensor_images_og, [layer_id])[f'{layer_id}'].flatten(start_dim=1).to('cpu')\n",
    "activation_diffeo = get_activation(model, tensor_images_diffeo, [layer_id])[f'{layer_id}'].flatten(start_dim=1).to('cpu')\n",
    "\n",
    "final_dataset = TensorDataset(activation_diffeo, activation_og)\n",
    "\n",
    "torch.save(final_dataset, \"resnet18_imagenet1k_val.pt\")"
   ]
  },
  {
   "cell_type": "code",
   "execution_count": null,
   "metadata": {},
   "outputs": [],
   "source": []
  }
 ],
 "metadata": {
  "colab": {
   "provenance": []
  },
  "kernelspec": {
   "display_name": "my_env",
   "language": "python",
   "name": "my_env"
  },
  "language_info": {
   "codemirror_mode": {
    "name": "ipython",
    "version": 3
   },
   "file_extension": ".py",
   "mimetype": "text/x-python",
   "name": "python",
   "nbconvert_exporter": "python",
   "pygments_lexer": "ipython3",
   "version": "3.12.7"
  }
 },
 "nbformat": 4,
 "nbformat_minor": 4
}
