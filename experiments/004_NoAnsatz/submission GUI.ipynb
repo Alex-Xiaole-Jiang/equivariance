{
 "cells": [
  {
   "cell_type": "code",
   "execution_count": 2,
   "id": "2d6eb534-7ef7-48d6-ae3b-cc9f72b20146",
   "metadata": {},
   "outputs": [],
   "source": [
    "import subprocess\n",
    "import json\n",
    "\n",
    "from utils.iter import generate_combinations"
   ]
  },
  {
   "cell_type": "code",
   "execution_count": 3,
   "id": "1f3b9332-46bd-4e79-8612-faafdd5093e1",
   "metadata": {},
   "outputs": [],
   "source": [
    "def gen_sbatch(config_string):\n",
    "    sbatch_string = f\"\"\"#!/bin/bash\n",
    "\n",
    "    #SBATCH --nodes=1\n",
    "    #SBATCH --ntasks-per-node=1\n",
    "    #SBATCH --cpus-per-task=8\n",
    "    #SBATCH --time=0:59:00\n",
    "    #SBATCH --mem=32GB\n",
    "    #SBATCH --gres=gpu:1\n",
    "    #SBATCH --job-name=diffeo\n",
    "    #SBATCH --mail-type=FAIL\n",
    "    #SBATCH --mail-user=cm6627@nyu.edu\n",
    "    #SBATCH --output=./slurm/slurm_%j.out\n",
    "    #SBATCH --error=./slurm/slurm_%j.err\n",
    "    \n",
    "    module purge\n",
    "    \n",
    "    singularity exec --nv \\\n",
    "      --overlay /scratch/cm6627/diffeo_cnn/my_env/overlay-15GB-500K.ext3:ro \\\n",
    "      --overlay /vast/work/public/ml-datasets/imagenet/imagenet-val.sqf:ro \\\n",
    "      --overlay /vast/work/public/ml-datasets/imagenet/imagenet-test.sqf:ro \\\n",
    "      --overlay /vast/work/public/ml-datasets/imagenet/imagenet-train.sqf:ro \\\n",
    "      /scratch/work/public/singularity/cuda12.3.2-cudnn9.0.0-ubuntu-22.04.4.sif \\\n",
    "      /bin/bash -c \"source /ext3/env.sh; python fit.py '{config_string}'\" \"\"\"\n",
    "    return sbatch_string\n",
    "\n",
    "def submit(config):\n",
    "    config_string = str(json.dumps(config)).replace('\"', '\\\\\"')\n",
    "    sbatch_string = gen_sbatch(config_string)\n",
    "\n",
    "    with open(\"submit.sbatch\", \"w\") as f:\n",
    "        f.write(sbatch_string)\n",
    "    \n",
    "    subprocess.run([\"sbatch ./submit.sbatch\"], shell=True)"
   ]
  },
  {
   "cell_type": "code",
   "execution_count": 9,
   "id": "191e4d3b-0d14-45d3-b1da-19af1c063b84",
   "metadata": {},
   "outputs": [
    {
     "name": "stdout",
     "output_type": "stream",
     "text": [
      "             JOBID PARTITION     NAME     USER ST       TIME  NODES NODELIST(REASON)\n",
      "          57190391 short,cs, submit.s   cm6627 PD       0:00      1 (Priority)\n"
     ]
    }
   ],
   "source": [
    "!squeue -u cm6627"
   ]
  },
  {
   "cell_type": "code",
   "execution_count": 10,
   "id": "1731c812-e5f3-417a-bf32-4149ab51e44c",
   "metadata": {},
   "outputs": [
    {
     "name": "stdout",
     "output_type": "stream",
     "text": [
      "Submitted batch job 57190396\n",
      "Submitted batch job 57190397\n",
      "Submitted batch job 57190398\n",
      "Submitted batch job 57190399\n",
      "Submitted batch job 57190400\n",
      "Submitted batch job 57190401\n",
      "Submitted batch job 57190402\n",
      "Submitted batch job 57190403\n",
      "Submitted batch job 57190404\n",
      "Submitted batch job 57190405\n",
      "Submitted batch job 57190406\n",
      "Submitted batch job 57190407\n",
      "Submitted batch job 57190408\n",
      "Submitted batch job 57190409\n",
      "Submitted batch job 57190410\n",
      "Submitted batch job 57190411\n"
     ]
    }
   ],
   "source": [
    "config = {\n",
    "    \"batch_size\": [1,16, 32, 64],\n",
    "    \"epochs\": 1500,\n",
    "    \"model\": {\n",
    "        \"name\": \"MLP_v1\",\n",
    "    },\n",
    "    \"optimizer\": {\n",
    "        \"name\": \"Adam\",\n",
    "        \"lr\": [1e-2, 1e-3, 1e-4, 1e-5],\n",
    "    },\n",
    "    \"scheduler\": {\n",
    "        \"name\": \"None\",\n",
    "    },\n",
    "    \"dataset\": \"resnet18_layer13_imagenet1ktrain_goldfishonly\"\n",
    "}\n",
    "\n",
    "for config in generate_combinations(config):\n",
    "    submit(config)"
   ]
  },
  {
   "cell_type": "code",
   "execution_count": null,
   "id": "39b0ddb0-dab6-49be-8bec-34fb41239e7d",
   "metadata": {},
   "outputs": [],
   "source": []
  }
 ],
 "metadata": {
  "kernelspec": {
   "display_name": "Python 3 (ipykernel)",
   "language": "python",
   "name": "python3"
  },
  "language_info": {
   "codemirror_mode": {
    "name": "ipython",
    "version": 3
   },
   "file_extension": ".py",
   "mimetype": "text/x-python",
   "name": "python",
   "nbconvert_exporter": "python",
   "pygments_lexer": "ipython3",
   "version": "3.11.7"
  }
 },
 "nbformat": 4,
 "nbformat_minor": 5
}
