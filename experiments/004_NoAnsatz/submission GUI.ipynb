{
 "cells": [
  {
   "cell_type": "code",
   "execution_count": 3,
   "id": "2d6eb534-7ef7-48d6-ae3b-cc9f72b20146",
   "metadata": {},
   "outputs": [],
   "source": [
    "import subprocess\n",
    "import json"
   ]
  },
  {
   "cell_type": "code",
   "execution_count": null,
   "id": "1f3b9332-46bd-4e79-8612-faafdd5093e1",
   "metadata": {},
   "outputs": [],
   "source": [
    "def gen_sbatch(config_string):\n",
    "    sbatch_string = f\"\"\"#!/bin/bash\n",
    "\n",
    "    #SBATCH --nodes=1\n",
    "    #SBATCH --ntasks-per-node=1\n",
    "    #SBATCH --cpus-per-task=8\n",
    "    #SBATCH --time=0:40:00\n",
    "    #SBATCH --mem=32GB\n",
    "    #SBATCH --gres=gpu:1\n",
    "    #SBATCH --job-name=Diffeo\n",
    "    #SBATCH --mail-type=END\n",
    "    #SBATCH --mail-user=cm6627@nyu.edu\n",
    "    #SBATCH --output=slurm/slurm_%j.out\n",
    "    #SBATCH --error=slurm/slurm_%j.err\n",
    "    \n",
    "    module purge\n",
    "    \n",
    "    singularity exec --nv \\\n",
    "      --overlay /scratch/cm6627/diffeo_cnn/my_env/overlay-15GB-500K.ext3:ro \\\n",
    "      --overlay /vast/work/public/ml-datasets/imagenet/imagenet-val.sqf:ro \\\n",
    "      --overlay /vast/work/public/ml-datasets/imagenet/imagenet-test.sqf:ro \\\n",
    "      --overlay /vast/work/public/ml-datasets/imagenet/imagenet-train.sqf:ro \\\n",
    "      /scratch/work/public/singularity/cuda12.3.2-cudnn9.0.0-ubuntu-22.04.4.sif \\\n",
    "      /bin/bash -c \"source /ext3/env.sh; python fit.py '{config_string}'\" \"\"\"\n",
    "    return sbatch_string"
   ]
  },
  {
   "cell_type": "code",
   "execution_count": 22,
   "id": "1731c812-e5f3-417a-bf32-4149ab51e44c",
   "metadata": {},
   "outputs": [],
   "source": [
    "config = {\n",
    "    \"dropout_rate\": 0.2,\n",
    "    \"batch_size\": 64,\n",
    "    \"epochs\": 1500,\n",
    "    \"optimizer\": {\n",
    "        \"name\": \"AdamW\",\n",
    "        \"lr\": 1e-6,\n",
    "        \"weight_decay\": 2.0\n",
    "    },\n",
    "    \"dataset\": \"resnet18_imagenet1k_train\"\n",
    "}\n",
    "config_string = str(json.dumps(config)).replace('\"', '\\\\\"')\n",
    "\n",
    "with open(\"submit.sbatch\", \"w\") as f:\n",
    "    f.write(sbatch_string)"
   ]
  },
  {
   "cell_type": "code",
   "execution_count": null,
   "id": "f09e0595-92c1-4c69-92a5-fb6294c1ce09",
   "metadata": {},
   "outputs": [],
   "source": [
    "with open('config.json', \"w\") as f:\n",
    "    json.dump(config, f, indent=4)\n",
    "\n",
    "subprocess.run([\"sbatch ./submit.sbatch\"], shell=True)"
   ]
  },
  {
   "cell_type": "code",
   "execution_count": null,
   "id": "e4b3a26d-2294-49df-be0c-dc990cbd5016",
   "metadata": {},
   "outputs": [],
   "source": []
  }
 ],
 "metadata": {
  "kernelspec": {
   "display_name": "Python 3 (ipykernel)",
   "language": "python",
   "name": "python3"
  },
  "language_info": {
   "codemirror_mode": {
    "name": "ipython",
    "version": 3
   },
   "file_extension": ".py",
   "mimetype": "text/x-python",
   "name": "python",
   "nbconvert_exporter": "python",
   "pygments_lexer": "ipython3",
   "version": "3.11.7"
  }
 },
 "nbformat": 4,
 "nbformat_minor": 5
}
