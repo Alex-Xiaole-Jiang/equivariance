{
 "cells": [
  {
   "cell_type": "code",
   "execution_count": 1,
   "id": "2d6eb534-7ef7-48d6-ae3b-cc9f72b20146",
   "metadata": {},
   "outputs": [],
   "source": [
    "import subprocess\n",
    "import json\n",
    "\n",
    "from utils.iter import generate_combinations"
   ]
  },
  {
   "cell_type": "code",
   "execution_count": 8,
   "id": "1f3b9332-46bd-4e79-8612-faafdd5093e1",
   "metadata": {},
   "outputs": [],
   "source": [
    "def gen_sbatch(config_string):\n",
    "    sbatch_string = f\"\"\"#!/bin/bash\n",
    "\n",
    "    #SBATCH --nodes=1\n",
    "    #SBATCH --ntasks-per-node=1\n",
    "    #SBATCH --cpus-per-task=8\n",
    "    #SBATCH --time=0:05:00\n",
    "    #SBATCH --mem=32GB\n",
    "    #SBATCH --gres=gpu:1\n",
    "    #SBATCH --job-name=diffeo\n",
    "    #SBATCH --mail-type=FAIL\n",
    "    #SBATCH --mail-user=cm6627@nyu.edu\n",
    "    #SBATCH --output=./slurm/slurm_%j.out\n",
    "    #SBATCH --error=./slurm/slurm_%j.err\n",
    "    \n",
    "    module purge\n",
    "    \n",
    "    singularity exec --nv \\\n",
    "      --overlay /scratch/cm6627/diffeo_cnn/my_env/overlay-15GB-500K.ext3:ro \\\n",
    "      --overlay /vast/work/public/ml-datasets/imagenet/imagenet-val.sqf:ro \\\n",
    "      --overlay /vast/work/public/ml-datasets/imagenet/imagenet-test.sqf:ro \\\n",
    "      --overlay /vast/work/public/ml-datasets/imagenet/imagenet-train.sqf:ro \\\n",
    "      /scratch/work/public/singularity/cuda12.3.2-cudnn9.0.0-ubuntu-22.04.4.sif \\\n",
    "      /bin/bash -c \"source /ext3/env.sh; python fit.py '{config_string}'\" \"\"\"\n",
    "    return sbatch_string\n",
    "\n",
    "def submit(config):\n",
    "    config_string = str(json.dumps(config)).replace('\"', '\\\\\"')\n",
    "    sbatch_string = gen_sbatch(config_string)\n",
    "\n",
    "    with open(\"submit.sbatch\", \"w\") as f:\n",
    "        f.write(sbatch_string)\n",
    "    \n",
    "    subprocess.run([\"sbatch ./submit.sbatch\"], shell=True)"
   ]
  },
  {
   "cell_type": "code",
   "execution_count": 12,
   "id": "1731c812-e5f3-417a-bf32-4149ab51e44c",
   "metadata": {},
   "outputs": [
    {
     "ename": "SyntaxError",
     "evalue": "invalid syntax. Perhaps you forgot a comma? (987390148.py, line 4)",
     "output_type": "error",
     "traceback": [
      "\u001b[0;36m  Cell \u001b[0;32mIn[12], line 4\u001b[0;36m\u001b[0m\n\u001b[0;31m    \"model\": {\u001b[0m\n\u001b[0m             ^\u001b[0m\n\u001b[0;31mSyntaxError\u001b[0m\u001b[0;31m:\u001b[0m invalid syntax. Perhaps you forgot a comma?\n"
     ]
    }
   ],
   "source": [
    "config = {\n",
    "    \"batch_size\": [16, 32],\n",
    "    \"epochs\": 1500,\n",
    "    \"model\": {\n",
    "        \"name\": \"MLP_v2\",\n",
    "        \"dropout_rate\": [0.2, 0.4, 0.6],\n",
    "    },\n",
    "    \"optimizer\": {\n",
    "        \"name\": \"AdamW\",\n",
    "        \"lr\": [1e-4, 1e-5, 1e-6],\n",
    "        \"weight_decay\": [0.02, 0.02, 2.0]\n",
    "    },\n",
    "    \"scheduler\": {\n",
    "        \"name\": \"ReduceLROnPlateau\",\n",
    "        \"factor\": 0.1,\n",
    "    },\n",
    "    \"dataset\": \"resnet18_imagenet1k_train\"\n",
    "}\n",
    "\n",
    "for config in generate_combinations(config):\n",
    "    submit(config)"
   ]
  },
  {
   "cell_type": "code",
   "execution_count": 13,
   "id": "0867f671-ffd9-46f9-b269-b84f6142a925",
   "metadata": {},
   "outputs": [
    {
     "name": "stdout",
     "output_type": "stream",
     "text": [
      "Submitted batch job 57060334\n"
     ]
    }
   ],
   "source": [
    "config = {\n",
    "    \"batch_size\": 16,\n",
    "    \"epochs\": 100,\n",
    "    \"model\": {\n",
    "        \"name\": \"MLP_v2\",\n",
    "        \"dropout_rate\": 0.02,\n",
    "    },\n",
    "    \"optimizer\": {\n",
    "        \"name\": \"AdamW\",\n",
    "        \"lr\": 1e-4,\n",
    "        \"weight_decay\": 0.002\n",
    "    },\n",
    "    \"scheduler\": {\n",
    "        \"name\": \"ReduceLROnPlateau\",\n",
    "        \"factor\": 0.1,\n",
    "    },\n",
    "    \"dataset\": \"resnet18_imagenet1k_train\"\n",
    "}\n",
    "\n",
    "submit(config)"
   ]
  },
  {
   "cell_type": "code",
   "execution_count": 24,
   "id": "fa386236-26a2-49ed-9324-12b74ccfae18",
   "metadata": {},
   "outputs": [
    {
     "name": "stdout",
     "output_type": "stream",
     "text": [
      "             JOBID PARTITION     NAME     USER ST       TIME  NODES NODELIST(REASON)\n",
      "          57060129     short ood-jupy   cm6627  R      17:09      1 cm041\n",
      "          57060334     short submit.s   cm6627  R       1:05      1 cm001\n"
     ]
    }
   ],
   "source": [
    "!squeue -u cm6627"
   ]
  },
  {
   "cell_type": "code",
   "execution_count": null,
   "id": "25868be9-e7ed-4e97-95f1-1a1c15edf8af",
   "metadata": {},
   "outputs": [],
   "source": []
  }
 ],
 "metadata": {
  "kernelspec": {
   "display_name": "Python 3 (ipykernel)",
   "language": "python",
   "name": "python3"
  },
  "language_info": {
   "codemirror_mode": {
    "name": "ipython",
    "version": 3
   },
   "file_extension": ".py",
   "mimetype": "text/x-python",
   "name": "python",
   "nbconvert_exporter": "python",
   "pygments_lexer": "ipython3",
   "version": "3.11.7"
  }
 },
 "nbformat": 4,
 "nbformat_minor": 5
}
