{
 "cells": [
  {
   "cell_type": "code",
   "execution_count": 1,
   "id": "2d6eb534-7ef7-48d6-ae3b-cc9f72b20146",
   "metadata": {},
   "outputs": [],
   "source": [
    "import subprocess\n",
    "import json"
   ]
  },
  {
   "cell_type": "code",
   "execution_count": 2,
   "id": "1731c812-e5f3-417a-bf32-4149ab51e44c",
   "metadata": {},
   "outputs": [
    {
     "name": "stdout",
     "output_type": "stream",
     "text": [
      "Submitted batch job 57043163\n"
     ]
    },
    {
     "data": {
      "text/plain": [
       "CompletedProcess(args=['sbatch ./submit.sbatch'], returncode=0)"
      ]
     },
     "execution_count": 2,
     "metadata": {},
     "output_type": "execute_result"
    }
   ],
   "source": [
    "config = {\n",
    "    \"dropout_rate\": 0.4,\n",
    "    \"batch_size\": 32,\n",
    "    \"epochs\": 1500,\n",
    "    \"optimizer\": {\n",
    "        \"name\": \"Adam\",\n",
    "        \"lr\": 1e-5\n",
    "    },\n",
    "    \"dataset\": \"resnet18_imagenet1k_train\"\n",
    "}\n",
    "\n",
    "with open('config.json', \"w\") as f:\n",
    "    json.dump(config, f, indent=4)\n",
    "\n",
    "subprocess.run([\"sbatch ./submit.sbatch\"], shell=True)"
   ]
  }
 ],
 "metadata": {
  "kernelspec": {
   "display_name": "Python 3 (ipykernel)",
   "language": "python",
   "name": "python3"
  },
  "language_info": {
   "codemirror_mode": {
    "name": "ipython",
    "version": 3
   },
   "file_extension": ".py",
   "mimetype": "text/x-python",
   "name": "python",
   "nbconvert_exporter": "python",
   "pygments_lexer": "ipython3",
   "version": "3.11.7"
  }
 },
 "nbformat": 4,
 "nbformat_minor": 5
}
